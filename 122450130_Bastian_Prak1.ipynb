{
  "nbformat": 4,
  "nbformat_minor": 0,
  "metadata": {
    "colab": {
      "provenance": []
    },
    "kernelspec": {
      "name": "python3",
      "display_name": "Python 3"
    },
    "language_info": {
      "name": "python"
    }
  },
  "cells": [
    {
      "cell_type": "markdown",
      "source": [
        "Beginer\n"
      ],
      "metadata": {
        "id": "V-0MetcFOCu5"
      }
    },
    {
      "cell_type": "code",
      "execution_count": null,
      "metadata": {
        "colab": {
          "base_uri": "https://localhost:8080/"
        },
        "id": "lrHQqSGxN2yI",
        "outputId": "dbb84e61-7342-40f7-81c2-f64b922f54e6"
      },
      "outputs": [
        {
          "output_type": "stream",
          "name": "stdout",
          "text": [
            "5\n"
          ]
        }
      ],
      "source": [
        "a = 2\n",
        "b = 3\n",
        "hasil = sum([a,b])\n",
        "print(hasil)"
      ]
    },
    {
      "cell_type": "code",
      "source": [
        "def pengurangan(a, b):\n",
        "  return a-b\n",
        "hasil = pengurangan(3, 2)\n",
        "print(hasil)"
      ],
      "metadata": {
        "colab": {
          "base_uri": "https://localhost:8080/"
        },
        "id": "BQZANFKZOa9O",
        "outputId": "dd7c9176-2587-4c8a-a7e1-a63b7abfa94c"
      },
      "execution_count": null,
      "outputs": [
        {
          "output_type": "stream",
          "name": "stdout",
          "text": [
            "1\n"
          ]
        }
      ]
    },
    {
      "cell_type": "code",
      "source": [
        "import math\n",
        "def perkalian(a, b):\n",
        "  return math.prod([a, b])\n",
        "hasil = perkalian(3, 2)\n",
        "print(hasil)"
      ],
      "metadata": {
        "colab": {
          "base_uri": "https://localhost:8080/"
        },
        "id": "29rDA64LPdmB",
        "outputId": "ae4a3600-567d-41e6-b701-79416cdcc336"
      },
      "execution_count": null,
      "outputs": [
        {
          "output_type": "stream",
          "name": "stdout",
          "text": [
            "6\n"
          ]
        }
      ]
    },
    {
      "cell_type": "code",
      "source": [
        "a = 3\n",
        "b = 2\n",
        "hasil = a / b\n",
        "print(hasil)"
      ],
      "metadata": {
        "colab": {
          "base_uri": "https://localhost:8080/"
        },
        "id": "t1hEFI2rPlp0",
        "outputId": "ad50a56a-e366-42ee-f067-aac1c0dc5f86"
      },
      "execution_count": null,
      "outputs": [
        {
          "output_type": "stream",
          "name": "stdout",
          "text": [
            "1.5\n"
          ]
        }
      ]
    },
    {
      "cell_type": "code",
      "source": [
        "def pemangkatan(a, b):\n",
        "  return a ** b\n",
        "hasil = pemangkatan(2, 3)\n",
        "print(hasil)"
      ],
      "metadata": {
        "colab": {
          "base_uri": "https://localhost:8080/"
        },
        "id": "DIFZPt1DPo6t",
        "outputId": "848e0fd5-fe33-4438-ba0e-7de7f8652059"
      },
      "execution_count": null,
      "outputs": [
        {
          "output_type": "stream",
          "name": "stdout",
          "text": [
            "8\n"
          ]
        }
      ]
    },
    {
      "cell_type": "code",
      "source": [
        "import math\n",
        "def akar_kuadrat(a):\n",
        "  return math.sqrt(a)\n",
        "hasil = akar_kuadrat(9)\n",
        "print(hasil)"
      ],
      "metadata": {
        "colab": {
          "base_uri": "https://localhost:8080/"
        },
        "id": "HKboZHANPvM0",
        "outputId": "23388632-4260-4cef-82be-b4bfe40083b6"
      },
      "execution_count": null,
      "outputs": [
        {
          "output_type": "stream",
          "name": "stdout",
          "text": [
            "3.0\n"
          ]
        }
      ]
    },
    {
      "cell_type": "code",
      "source": [
        "import math\n",
        "a = 3\n",
        "hasil = math.factorial(a)\n",
        "print(hasil)"
      ],
      "metadata": {
        "colab": {
          "base_uri": "https://localhost:8080/"
        },
        "id": "VVtS_NVMP5IW",
        "outputId": "8ce72a84-a6bc-4028-db9e-6652c02bc07a"
      },
      "execution_count": null,
      "outputs": [
        {
          "output_type": "stream",
          "name": "stdout",
          "text": [
            "6\n"
          ]
        }
      ]
    },
    {
      "cell_type": "code",
      "source": [
        "import math\n",
        "def logaritma(a, base):\n",
        "  return math.log(a, base)\n",
        "hasil = logaritma(2, 3)\n",
        "print(hasil)"
      ],
      "metadata": {
        "colab": {
          "base_uri": "https://localhost:8080/"
        },
        "id": "AmFHEu6kP8RR",
        "outputId": "ef4294d4-f321-4db1-c291-97d369fec5b2"
      },
      "execution_count": null,
      "outputs": [
        {
          "output_type": "stream",
          "name": "stdout",
          "text": [
            "0.6309297535714574\n"
          ]
        }
      ]
    },
    {
      "cell_type": "code",
      "source": [
        "import math\n",
        "def sinus(a):\n",
        "  return math.sin(math.radians(a))\n",
        "hasil = sinus(90)\n",
        "print(hasil)"
      ],
      "metadata": {
        "colab": {
          "base_uri": "https://localhost:8080/"
        },
        "id": "ltSeEzRtQC2R",
        "outputId": "61b61b32-49a8-4678-9825-7a15696bdfed"
      },
      "execution_count": null,
      "outputs": [
        {
          "output_type": "stream",
          "name": "stdout",
          "text": [
            "1.0\n"
          ]
        }
      ]
    },
    {
      "cell_type": "code",
      "source": [
        "import math\n",
        "a = 0\n",
        "hasil = math.cos(math.radians(a))\n",
        "print(hasil)"
      ],
      "metadata": {
        "colab": {
          "base_uri": "https://localhost:8080/"
        },
        "id": "ThKls7gZQKZa",
        "outputId": "045daa53-16fb-4290-f23b-e1f3877de413"
      },
      "execution_count": null,
      "outputs": [
        {
          "output_type": "stream",
          "name": "stdout",
          "text": [
            "1.0\n"
          ]
        }
      ]
    },
    {
      "cell_type": "code",
      "source": [
        "import math\n",
        "def tangen(a):\n",
        "  return math.tan(math.radians(a))\n",
        "hasil = tangen(45)\n",
        "print(hasil)"
      ],
      "metadata": {
        "colab": {
          "base_uri": "https://localhost:8080/"
        },
        "id": "tNWk8QEdQN4Y",
        "outputId": "1646c8d0-1033-4971-e024-a9e873d42c20"
      },
      "execution_count": null,
      "outputs": [
        {
          "output_type": "stream",
          "name": "stdout",
          "text": [
            "0.9999999999999999\n"
          ]
        }
      ]
    },
    {
      "cell_type": "code",
      "source": [
        "import math\n",
        "def eksponensial(a):\n",
        "  return math.exp(a)\n",
        "hasil = eksponensial(1)\n",
        "print(hasil)"
      ],
      "metadata": {
        "colab": {
          "base_uri": "https://localhost:8080/"
        },
        "id": "_07rryG6QSlJ",
        "outputId": "463dc398-52e2-4f03-dadf-6f09b564f277"
      },
      "execution_count": null,
      "outputs": [
        {
          "output_type": "stream",
          "name": "stdout",
          "text": [
            "2.718281828459045\n"
          ]
        }
      ]
    },
    {
      "cell_type": "code",
      "source": [
        "a = 10\n",
        "b = 3\n",
        "hasil = a % b\n",
        "print(hasil)"
      ],
      "metadata": {
        "colab": {
          "base_uri": "https://localhost:8080/"
        },
        "id": "rNebMqOFQdFa",
        "outputId": "d1133011-cec6-46f7-cecb-2f6b3671ae40"
      },
      "execution_count": null,
      "outputs": [
        {
          "output_type": "stream",
          "name": "stdout",
          "text": [
            "1\n"
          ]
        }
      ]
    },
    {
      "cell_type": "code",
      "source": [
        "import math\n",
        "def permutasi(n, r):\n",
        "  return math.factorial(n) / math.factorial(n - r)\n",
        "hasil = permutasi(3, 2)\n",
        "print(hasil)"
      ],
      "metadata": {
        "colab": {
          "base_uri": "https://localhost:8080/"
        },
        "id": "U8JE7HxrQmEx",
        "outputId": "069f99d8-0819-4926-b793-2a9e59531ebd"
      },
      "execution_count": null,
      "outputs": [
        {
          "output_type": "stream",
          "name": "stdout",
          "text": [
            "6.0\n"
          ]
        }
      ]
    },
    {
      "cell_type": "code",
      "source": [
        "import math\n",
        "def kombinasi(n, r):\n",
        "  return math.factorial(n) / (math.factorial(r) * math.factorial(n - r))\n",
        "hasil = kombinasi(3, 2)\n",
        "print(hasil)"
      ],
      "metadata": {
        "colab": {
          "base_uri": "https://localhost:8080/"
        },
        "id": "YdDeWe8MQyYS",
        "outputId": "76f73721-a601-41a1-fdab-77e5ebd0e78d"
      },
      "execution_count": null,
      "outputs": [
        {
          "output_type": "stream",
          "name": "stdout",
          "text": [
            "3.0\n"
          ]
        }
      ]
    },
    {
      "cell_type": "code",
      "source": [
        "import math\n",
        "a = 180\n",
        "hasil = math.radians(a)\n",
        "print(hasil)"
      ],
      "metadata": {
        "colab": {
          "base_uri": "https://localhost:8080/"
        },
        "id": "uTia5k_HRDD8",
        "outputId": "c08aa8a6-a5d9-40d5-8935-e102ae05ed4d"
      },
      "execution_count": null,
      "outputs": [
        {
          "output_type": "stream",
          "name": "stdout",
          "text": [
            "3.141592653589793\n"
          ]
        }
      ]
    },
    {
      "cell_type": "code",
      "source": [
        "import math\n",
        "def radian_ke_derajat(a):\n",
        "  return math.degrees(a)\n",
        "hasil = radian_ke_derajat(math.pi)\n",
        "print(hasil)"
      ],
      "metadata": {
        "colab": {
          "base_uri": "https://localhost:8080/"
        },
        "id": "Uqg2XtKmRF8U",
        "outputId": "fa4d8246-2129-4b11-a5f7-dc4e59f07853"
      },
      "execution_count": null,
      "outputs": [
        {
          "output_type": "stream",
          "name": "stdout",
          "text": [
            "180.0\n"
          ]
        }
      ]
    },
    {
      "cell_type": "code",
      "source": [
        "a = 3\n",
        "b = 2\n",
        "hasil = max(a, b)\n",
        "print(hasil)"
      ],
      "metadata": {
        "colab": {
          "base_uri": "https://localhost:8080/"
        },
        "id": "JXExfPWnRZJK",
        "outputId": "dd49863e-1e56-4b4f-9541-91dff9b0b483"
      },
      "execution_count": null,
      "outputs": [
        {
          "output_type": "stream",
          "name": "stdout",
          "text": [
            "3\n"
          ]
        }
      ]
    },
    {
      "cell_type": "code",
      "source": [
        "import math\n",
        "def pembulatan_ke_atas(a):\n",
        "  return math.ceil(a)\n",
        "hasil = pembulatan_ke_atas(6.7)\n",
        "print(hasil)"
      ],
      "metadata": {
        "colab": {
          "base_uri": "https://localhost:8080/"
        },
        "id": "_QpvdcR_RYXU",
        "outputId": "55f50a47-5429-430c-aa3a-7e1b47f20465"
      },
      "execution_count": null,
      "outputs": [
        {
          "output_type": "stream",
          "name": "stdout",
          "text": [
            "7\n"
          ]
        }
      ]
    },
    {
      "cell_type": "markdown",
      "source": [
        "INTERMEDIATE"
      ],
      "metadata": {
        "id": "FK4Hg69pRjtT"
      }
    },
    {
      "cell_type": "code",
      "source": [
        "a, b, c = 10, 9, 11\n",
        "median = sorted([a, b, c])[1]\n",
        "print(median)"
      ],
      "metadata": {
        "colab": {
          "base_uri": "https://localhost:8080/"
        },
        "id": "_N06hhxsRmCz",
        "outputId": "44fc361a-d983-4915-b46d-d17536f674ac"
      },
      "execution_count": null,
      "outputs": [
        {
          "output_type": "stream",
          "name": "stdout",
          "text": [
            "10\n"
          ]
        }
      ]
    },
    {
      "cell_type": "code",
      "source": [
        "def luas_lingkaran(r):\n",
        "  return 3.14 * r ** 2\n",
        "r = 14\n",
        "print(luas_lingkaran(r))"
      ],
      "metadata": {
        "colab": {
          "base_uri": "https://localhost:8080/"
        },
        "id": "2Hk9gKWiRthD",
        "outputId": "da7dfcc8-7ac1-4cd6-b5d0-64cd2c2a31b5"
      },
      "execution_count": null,
      "outputs": [
        {
          "output_type": "stream",
          "name": "stdout",
          "text": [
            "615.44\n"
          ]
        }
      ]
    },
    {
      "cell_type": "code",
      "source": [
        "def luas_segitiga(alas, tinggi):\n",
        "  return 0.5 * alas * tinggi\n",
        "alas = 10\n",
        "tinggi = 15\n",
        "print(luas_segitiga(alas, tinggi))"
      ],
      "metadata": {
        "colab": {
          "base_uri": "https://localhost:8080/"
        },
        "id": "AfcWRERMR1Ft",
        "outputId": "e469721e-1b07-4303-b589-3c71235de27f"
      },
      "execution_count": null,
      "outputs": [
        {
          "output_type": "stream",
          "name": "stdout",
          "text": [
            "75.0\n"
          ]
        }
      ]
    },
    {
      "cell_type": "code",
      "source": [
        "celcius = 5\n",
        "fahrenheit = (celcius * 9/5) + 32\n",
        "print(fahrenheit)"
      ],
      "metadata": {
        "colab": {
          "base_uri": "https://localhost:8080/"
        },
        "id": "wDNAL_AOR6-U",
        "outputId": "b307dbe0-2589-47d5-f6e1-f7f152065e53"
      },
      "execution_count": null,
      "outputs": [
        {
          "output_type": "stream",
          "name": "stdout",
          "text": [
            "41.0\n"
          ]
        }
      ]
    },
    {
      "cell_type": "code",
      "source": [
        "def fahrenheit_ke_celcius(fahrenheit):\n",
        "  return (fahrenheit - 32) * 5/9\n",
        "fahrenheit = 41\n",
        "print(fahrenheit_ke_celcius(fahrenheit))"
      ],
      "metadata": {
        "colab": {
          "base_uri": "https://localhost:8080/"
        },
        "id": "O6pkvDDSSAYT",
        "outputId": "91878071-2fcb-47ff-b9ec-aa17e8d89bea"
      },
      "execution_count": null,
      "outputs": [
        {
          "output_type": "stream",
          "name": "stdout",
          "text": [
            "5.0\n"
          ]
        }
      ]
    },
    {
      "cell_type": "code",
      "source": [
        "def luas_permukaan_kubus(sisi):\n",
        "  return 6 * sisi ** 2\n",
        "sisi = 4\n",
        "print(luas_permukaan_kubus(sisi))"
      ],
      "metadata": {
        "colab": {
          "base_uri": "https://localhost:8080/"
        },
        "id": "1NOPGPseSNHD",
        "outputId": "67f966bd-adaf-4bd0-e4cb-3a49697c52c6"
      },
      "execution_count": null,
      "outputs": [
        {
          "output_type": "stream",
          "name": "stdout",
          "text": [
            "96\n"
          ]
        }
      ]
    },
    {
      "cell_type": "code",
      "source": [
        "sisi = 9\n",
        "volume = sisi ** 3\n",
        "print(volume)"
      ],
      "metadata": {
        "colab": {
          "base_uri": "https://localhost:8080/"
        },
        "id": "E7iO01z-SWKd",
        "outputId": "aada2492-fa13-4f6e-b953-84477936fcf6"
      },
      "execution_count": null,
      "outputs": [
        {
          "output_type": "stream",
          "name": "stdout",
          "text": [
            "729\n"
          ]
        }
      ]
    },
    {
      "cell_type": "code",
      "source": [
        "def keliling_lingkaran(r):\n",
        "  return 2 * 3.14 * r\n",
        "r = 14\n",
        "print(keliling_lingkaran(r))"
      ],
      "metadata": {
        "colab": {
          "base_uri": "https://localhost:8080/"
        },
        "id": "VdOzpuvaSZsM",
        "outputId": "1e6bf0ae-1155-4dde-df4e-2d1f4542c32d"
      },
      "execution_count": null,
      "outputs": [
        {
          "output_type": "stream",
          "name": "stdout",
          "text": [
            "87.92\n"
          ]
        }
      ]
    },
    {
      "cell_type": "code",
      "source": [
        "def luas_trapesium(a, b, tinggi):\n",
        "  return 0.5 * (a + b) * tinggi\n",
        "a = 10\n",
        "b = 20\n",
        "tinggi = 15\n",
        "print(luas_trapesium(a, b, tinggi))"
      ],
      "metadata": {
        "colab": {
          "base_uri": "https://localhost:8080/"
        },
        "id": "oH8aJ5TYSdp3",
        "outputId": "7b58e7ba-36fe-47af-f69b-c40a25841fa6"
      },
      "execution_count": null,
      "outputs": [
        {
          "output_type": "stream",
          "name": "stdout",
          "text": [
            "225.0\n"
          ]
        }
      ]
    },
    {
      "cell_type": "code",
      "source": [
        "alas = 10\n",
        "tinggi = 10\n",
        "luas = alas * tinggi\n",
        "print(luas)"
      ],
      "metadata": {
        "colab": {
          "base_uri": "https://localhost:8080/"
        },
        "id": "Jp5BBNm8SyKb",
        "outputId": "4b998654-2e20-4c62-b05c-1f0a336dcea8"
      },
      "execution_count": null,
      "outputs": [
        {
          "output_type": "stream",
          "name": "stdout",
          "text": [
            "100\n"
          ]
        }
      ]
    },
    {
      "cell_type": "code",
      "source": [
        "def volume_kerucut(r, tinggi):\n",
        "  return (1/3) * 3.14 * r ** 2 * tinggi\n",
        "r = 10\n",
        "tinggi = 9\n",
        "print(volume_kerucut(r, tinggi))"
      ],
      "metadata": {
        "colab": {
          "base_uri": "https://localhost:8080/"
        },
        "id": "xQAdir2UStib",
        "outputId": "905d6fff-81ac-4c58-e0e5-5cc113dd7042"
      },
      "execution_count": null,
      "outputs": [
        {
          "output_type": "stream",
          "name": "stdout",
          "text": [
            "941.9999999999999\n"
          ]
        }
      ]
    },
    {
      "cell_type": "code",
      "source": [
        "def volume_tabung(r, tinggi):\n",
        "  return 3.14 * r ** 2 * tinggi\n",
        "r = 4\n",
        "tinggi = 6\n",
        "print(volume_tabung(r, tinggi))"
      ],
      "metadata": {
        "colab": {
          "base_uri": "https://localhost:8080/"
        },
        "id": "a-IyYh8IS8Ps",
        "outputId": "f4cdea5d-ff5b-4340-b146-0f8fc90fe3d7"
      },
      "execution_count": null,
      "outputs": [
        {
          "output_type": "stream",
          "name": "stdout",
          "text": [
            "301.44\n"
          ]
        }
      ]
    },
    {
      "cell_type": "code",
      "source": [
        "r = 10\n",
        "tinggi = 10\n",
        "luas_permukaan = 2 * 3.14 * r * (r + tinggi)\n",
        "print(luas_permukaan)"
      ],
      "metadata": {
        "colab": {
          "base_uri": "https://localhost:8080/"
        },
        "id": "TxXOA2jYTCKc",
        "outputId": "4936a816-0949-406a-ee4f-c6eda1415540"
      },
      "execution_count": null,
      "outputs": [
        {
          "output_type": "stream",
          "name": "stdout",
          "text": [
            "1256.0\n"
          ]
        }
      ]
    },
    {
      "cell_type": "code",
      "source": [
        "def luas_permukaan_kerucut(r, s):\n",
        "  return 3.14 * r * (r + s)\n",
        "r = 10\n",
        "s = 10 # Panjang garis pelukis\n",
        "print(luas_permukaan_kerucut(r, s))"
      ],
      "metadata": {
        "colab": {
          "base_uri": "https://localhost:8080/"
        },
        "id": "fmuawlJhTRMr",
        "outputId": "c5e71373-105b-4196-ae61-0d39232df783"
      },
      "execution_count": null,
      "outputs": [
        {
          "output_type": "stream",
          "name": "stdout",
          "text": [
            "628.0\n"
          ]
        }
      ]
    },
    {
      "cell_type": "code",
      "source": [
        "def luas_permukaan_bola(r):\n",
        "  return 4 * 3.14 * r ** 2\n",
        "r = 10\n",
        "print(luas_permukaan_bola(r))"
      ],
      "metadata": {
        "colab": {
          "base_uri": "https://localhost:8080/"
        },
        "id": "gcCyVjgfTXF2",
        "outputId": "e148239e-90a0-4733-f302-3a41e26d7ed6"
      },
      "execution_count": null,
      "outputs": [
        {
          "output_type": "stream",
          "name": "stdout",
          "text": [
            "1256.0\n"
          ]
        }
      ]
    },
    {
      "cell_type": "code",
      "source": [
        "r = 10\n",
        "volume = (4/3) * 3.14 * r ** 3\n",
        "print(volume)"
      ],
      "metadata": {
        "colab": {
          "base_uri": "https://localhost:8080/"
        },
        "id": "hnust_vSTexM",
        "outputId": "32ab1d06-242d-48de-fe0d-00bef8cb35a2"
      },
      "execution_count": null,
      "outputs": [
        {
          "output_type": "stream",
          "name": "stdout",
          "text": [
            "4186.666666666667\n"
          ]
        }
      ]
    },
    {
      "cell_type": "code",
      "source": [
        "def luas_permukaan_prisma(alas, tinggi_alas, tinggi_prisma):\n",
        "  luas_alas = alas * tinggi_alas\n",
        "  keliling_alas = 2 * (alas + tinggi_alas)\n",
        "  luas_sisi_tegak = keliling_alas * tinggi_prisma\n",
        "  return 2 * luas_alas + luas_sisi_tegak\n",
        "alas = 4\n",
        "tinggi_alas = 3\n",
        "tinggi_prisma = 6\n",
        "print(luas_permukaan_prisma(alas, tinggi_alas, tinggi_prisma))"
      ],
      "metadata": {
        "colab": {
          "base_uri": "https://localhost:8080/"
        },
        "id": "AVzEgZDxTk-z",
        "outputId": "dabd607c-ab05-4978-e6ea-6f6ac8123b20"
      },
      "execution_count": null,
      "outputs": [
        {
          "output_type": "stream",
          "name": "stdout",
          "text": [
            "108\n"
          ]
        }
      ]
    },
    {
      "cell_type": "code",
      "source": [
        "def volume_prisma(alas, tinggi_alas, tinggi_prisma):\n",
        "  return alas * tinggi_alas * tinggi_prisma\n",
        "alas = 4\n",
        "tinggi_alas = 5\n",
        "tinggi_prisma = 6\n",
        "print(volume_prisma(alas, tinggi_alas, tinggi_prisma))"
      ],
      "metadata": {
        "colab": {
          "base_uri": "https://localhost:8080/"
        },
        "id": "i0WPMFBAT6M5",
        "outputId": "ce0ef493-5371-4843-bb09-650b7839ed84"
      },
      "execution_count": null,
      "outputs": [
        {
          "output_type": "stream",
          "name": "stdout",
          "text": [
            "120\n"
          ]
        }
      ]
    },
    {
      "cell_type": "code",
      "source": [
        "alas = 4\n",
        "tinggi_alas = 5\n",
        "tinggi_limas = 6\n",
        "luas_alas = alas * tinggi_alas\n",
        "luas_sisi_tegak = 4 * (1/2) * alas * tinggi_limas\n",
        "luas_permukaan = luas_alas + luas_sisi_tegak\n",
        "print(luas_permukaan)"
      ],
      "metadata": {
        "colab": {
          "base_uri": "https://localhost:8080/"
        },
        "id": "dDSOL_NtUA47",
        "outputId": "1c1e4367-ee00-455f-8c14-c28aee608371"
      },
      "execution_count": null,
      "outputs": [
        {
          "output_type": "stream",
          "name": "stdout",
          "text": [
            "68.0\n"
          ]
        }
      ]
    },
    {
      "cell_type": "code",
      "source": [
        "def volume_limas(alas, tinggi_alas, tinggi_limas):\n",
        "  return (1/3) * alas * tinggi_alas * tinggi_limas\n",
        "alas = 7\n",
        "tinggi_alas = 8\n",
        "tinggi_limas = 9\n",
        "print(volume_limas(alas, tinggi_alas, tinggi_limas))"
      ],
      "metadata": {
        "colab": {
          "base_uri": "https://localhost:8080/"
        },
        "id": "8h85S8v3UIU6",
        "outputId": "68a76328-6d4e-4730-f9db-2aa064ca1c2d"
      },
      "execution_count": null,
      "outputs": [
        {
          "output_type": "stream",
          "name": "stdout",
          "text": [
            "167.99999999999997\n"
          ]
        }
      ]
    },
    {
      "cell_type": "code",
      "source": [
        "import math\n",
        "\n",
        "def luas_lingkaran():\n",
        "    jari_jari = float(input(\"Masukkan jari-jari lingkaran: \"))\n",
        "    pi = float(3.14)\n",
        "    luas = pi * (jari_jari ** 2)\n",
        "    print(f\"Luas Lingkaran: {luas}\")\n",
        "\n",
        "def luas_segitiga():\n",
        "    alas = float(input(\"Masukkan nilai alas segitiga: \"))\n",
        "    tinggi = float(input(\"Masukkan\n",
        "\n",
        "\n",
        "    tinggi segitiga: \"))\n",
        "    luas = 0.5 * alas * tinggi\n",
        "    print(f\"Luas Segitiga: {luas}\")\n",
        "\n",
        "def volume_kubus():\n",
        "    sisi = float(input(\"Masukkan panjang sisi kubus: \"))\n",
        "    volume = sisi ** 3\n",
        "    print(f\"Volume Kubus: {volume}\")\n",
        "\n",
        "def luas_permukaan_kubus():\n",
        "    sisi = float(input(\"Masukkan panjang sisi kubus: \"))\n",
        "    luas_permukaan = 6 * (sisi ** 2)\n",
        "    print(f\"Luas Permukaan Kubus: {luas_permukaan}\")\n",
        "\n",
        "def volume_tabung():\n",
        "    jari_jari = float(input(\"Masukkan jari-jari tabung: \"))\n",
        "    tinggi = float(input(\"Masukkan tinggi tabung: \"))\n",
        "    volume = math.pi * (jari_jari ** 2) * tinggi\n",
        "    print(f\"Volume Tabung: {volume}\")\n",
        "\n",
        "while True:\n",
        "    print(\"\\nMenu Operasi:\")\n",
        "    print(\"1. Luas Lingkaran\")\n",
        "    print(\"2. Luas Segitiga\")\n",
        "    print(\"3. Volume Kubus\")\n",
        "    print(\"4. Luas Permukaan Kubus\")\n",
        "    print(\"5. Volume Tabung\")\n",
        "    print(\"6. Keluar\")\n",
        "\n",
        "    pilihan = int(input(\"Pilih operasi (1/2/3/4/5/6): \"))\n",
        "\n",
        "    if pilihan == 1:\n",
        "        luas_lingkaran()\n",
        "    elif pilihan == 2:\n",
        "        luas_segitiga()\n",
        "    elif pilihan == 3:\n",
        "        volume_kubus()\n",
        "    elif pilihan == 4:\n",
        "        luas_permukaan_kubus()\n",
        "    elif pilihan == 5:\n",
        "        volume_tabung()\n",
        "    elif pilihan == 6:\n",
        "        print(\"Terima kasih, program selesai.\")\n",
        "        break\n",
        "    else:\n",
        "        print(\"Pilihan tidak valid. Silakan pilih kembali.\")\n"
      ],
      "metadata": {
        "colab": {
          "base_uri": "https://localhost:8080/"
        },
        "id": "4cBmeQ1gUU9l",
        "outputId": "47bc1234-8ac7-48d2-c5d1-13604d444d83"
      },
      "execution_count": null,
      "outputs": [
        {
          "output_type": "stream",
          "name": "stdout",
          "text": [
            "\n",
            "Menu Operasi:\n",
            "1. Luas Lingkaran\n",
            "2. Luas Segitiga\n",
            "3. Volume Kubus\n",
            "4. Luas Permukaan Kubus\n",
            "5. Volume Tabung\n",
            "6. Keluar\n",
            "Pilih operasi (1/2/3/4/5/6): 1\n",
            "Masukkan jari-jari lingkaran: 2\n",
            "Luas Lingkaran: 12.56\n",
            "\n",
            "Menu Operasi:\n",
            "1. Luas Lingkaran\n",
            "2. Luas Segitiga\n",
            "3. Volume Kubus\n",
            "4. Luas Permukaan Kubus\n",
            "5. Volume Tabung\n",
            "6. Keluar\n",
            "Pilih operasi (1/2/3/4/5/6): 2\n",
            "Masukkan nilai alas segitiga: 3\n",
            "Masukkan tinggi segitiga: 3\n",
            "Luas Segitiga: 4.5\n",
            "\n",
            "Menu Operasi:\n",
            "1. Luas Lingkaran\n",
            "2. Luas Segitiga\n",
            "3. Volume Kubus\n",
            "4. Luas Permukaan Kubus\n",
            "5. Volume Tabung\n",
            "6. Keluar\n",
            "Pilih operasi (1/2/3/4/5/6): 3\n",
            "Masukkan panjang sisi kubus: 3\n",
            "Volume Kubus: 27.0\n",
            "\n",
            "Menu Operasi:\n",
            "1. Luas Lingkaran\n",
            "2. Luas Segitiga\n",
            "3. Volume Kubus\n",
            "4. Luas Permukaan Kubus\n",
            "5. Volume Tabung\n",
            "6. Keluar\n",
            "Pilih operasi (1/2/3/4/5/6): 4\n",
            "Masukkan panjang sisi kubus: 4\n",
            "Luas Permukaan Kubus: 96.0\n",
            "\n",
            "Menu Operasi:\n",
            "1. Luas Lingkaran\n",
            "2. Luas Segitiga\n",
            "3. Volume Kubus\n",
            "4. Luas Permukaan Kubus\n",
            "5. Volume Tabung\n",
            "6. Keluar\n",
            "Pilih operasi (1/2/3/4/5/6): 5\n",
            "Masukkan jari-jari tabung: 5\n",
            "Masukkan tinggi tabung: 6\n",
            "Volume Tabung: 471.23889803846896\n",
            "\n",
            "Menu Operasi:\n",
            "1. Luas Lingkaran\n",
            "2. Luas Segitiga\n",
            "3. Volume Kubus\n",
            "4. Luas Permukaan Kubus\n",
            "5. Volume Tabung\n",
            "6. Keluar\n",
            "Pilih operasi (1/2/3/4/5/6): 6\n",
            "Terima kasih, program selesai.\n"
          ]
        }
      ]
    },
    {
      "cell_type": "code",
      "source": [],
      "metadata": {
        "id": "LOO7jahLaoKZ"
      },
      "execution_count": null,
      "outputs": []
    }
  ]
}