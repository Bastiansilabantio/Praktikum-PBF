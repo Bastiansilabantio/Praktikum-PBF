{
  "nbformat": 4,
  "nbformat_minor": 0,
  "metadata": {
    "colab": {
      "provenance": []
    },
    "kernelspec": {
      "name": "python3",
      "display_name": "Python 3"
    },
    "language_info": {
      "name": "python"
    }
  },
  "cells": [
    {
      "cell_type": "markdown",
      "source": [
        "Nomor 1"
      ],
      "metadata": {
        "id": "LhbWSCPljL79"
      }
    },
    {
      "cell_type": "code",
      "execution_count": 1,
      "metadata": {
        "id": "qSdG-wn4KoFp",
        "colab": {
          "base_uri": "https://localhost:8080/"
        },
        "outputId": "836e94bb-b6f4-47ee-bae6-642fab34ae4a"
      },
      "outputs": [
        {
          "output_type": "execute_result",
          "data": {
            "text/plain": [
              "259"
            ]
          },
          "metadata": {},
          "execution_count": 1
        }
      ],
      "source": [
        "def f(x):\n",
        "  return 4*x\n",
        "\n",
        "def g(x):\n",
        "  return x*x\n",
        "\n",
        "def h(x):\n",
        "  return 3+x\n",
        "\n",
        "#composition\n",
        "h(g(f(4)))"
      ]
    },
    {
      "cell_type": "code",
      "source": [
        "def compose(f1, f2):\n",
        "  return lambda v: f1(f2(v))\n",
        "\n",
        "hgf = compose(h, compose(g,f))\n",
        "hgf(3)"
      ],
      "metadata": {
        "colab": {
          "base_uri": "https://localhost:8080/"
        },
        "id": "aN5vjB6fjJ3H",
        "outputId": "21abfcbe-88ae-414e-f846-f8f0737e8a3b"
      },
      "execution_count": 2,
      "outputs": [
        {
          "output_type": "execute_result",
          "data": {
            "text/plain": [
              "147"
            ]
          },
          "metadata": {},
          "execution_count": 2
        }
      ]
    }
  ]
}