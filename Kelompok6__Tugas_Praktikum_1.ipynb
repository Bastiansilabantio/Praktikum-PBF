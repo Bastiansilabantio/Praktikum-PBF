{
  "nbformat": 4,
  "nbformat_minor": 0,
  "metadata": {
    "colab": {
      "provenance": []
    },
    "kernelspec": {
      "name": "python3",
      "display_name": "Python 3"
    },
    "language_info": {
      "name": "python"
    }
  },
  "cells": [
    {
      "cell_type": "markdown",
      "source": [
        "Pemrograman Prosedural"
      ],
      "metadata": {
        "id": "tBIXVcQGMo16"
      }
    },
    {
      "cell_type": "code",
      "execution_count": null,
      "metadata": {
        "id": "qSdG-wn4KoFp"
      },
      "outputs": [],
      "source": [
        "def bisection(f, a, b, tol=1e-5):\n",
        "    while (b - a) / 2 > tol:\n",
        "        c = (a + b) / 2\n",
        "        if f(c) == 0:\n",
        "            return c\n",
        "        elif f(c) * f(a) < 0:\n",
        "            b = c\n",
        "        else:\n",
        "            a = c\n",
        "    return (a + b) / 2"
      ]
    },
    {
      "cell_type": "markdown",
      "source": [
        "Pemrograman Fungsional"
      ],
      "metadata": {
        "id": "WQg4UrYQM2p9"
      }
    },
    {
      "cell_type": "code",
      "source": [
        "def bisection_functional(f, a, b, tol=1e-5):\n",
        "    def iterate(a, b):\n",
        "        c = (a + b) / 2\n",
        "        return c if abs(f(c)) <= tol else (iterate(a, c) if f(c) * f(a) < 0 else iterate(c, b))\n",
        "\n",
        "    return iterate(a, b)\n"
      ],
      "metadata": {
        "id": "EdzworAnM49A"
      },
      "execution_count": null,
      "outputs": []
    },
    {
      "cell_type": "code",
      "source": [
        "from math import log2\n",
        "\n",
        "def bisection_method(f, a, b, tol):\n",
        "    x0 = a\n",
        "    x1 = b\n",
        "    while abs(x1 - x0) > tol:\n",
        "        x2 = (x0 + x1) / 2\n",
        "        if f(x0) * f(x2) < 0:\n",
        "            x0 = x2\n",
        "        else:\n",
        "            x1 = x2\n",
        "    return (x0 + x1) / 2\n",
        "\n",
        "def f(x):\n",
        "    return x - 2**x\n",
        "\n",
        "a = 0.1\n",
        "b = 0.9\n",
        "tol = 1e-5\n",
        "\n",
        "akar = bisection_method(f, a, b, tol)\n",
        "\n",
        "print(akar)"
      ],
      "metadata": {
        "colab": {
          "base_uri": "https://localhost:8080/"
        },
        "id": "RqLf-mbHNLnh",
        "outputId": "08a5ea40-7bda-4570-b502-ee7c0eb0b44f"
      },
      "execution_count": 2,
      "outputs": [
        {
          "output_type": "stream",
          "name": "stdout",
          "text": [
            "0.1000030517578125\n"
          ]
        }
      ]
    }
  ]
}